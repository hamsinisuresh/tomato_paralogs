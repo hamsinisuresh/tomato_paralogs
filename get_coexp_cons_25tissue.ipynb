{
 "cells": [
  {
   "cell_type": "code",
   "execution_count": null,
   "id": "44170f5e-bd95-481d-9406-af2ac3293c4e",
   "metadata": {},
   "outputs": [],
   "source": [
    "# ..... use new merged atlas ..... #\n",
    "# mix of Heinz and M82, tissues/stages annotated by tissue categories, all non-normalized"
   ]
  },
  {
   "cell_type": "code",
   "execution_count": 3,
   "id": "bd931d33-fd36-474e-a0d0-ad2e065b30a9",
   "metadata": {},
   "outputs": [],
   "source": [
    "## ..... functions to calculate coexpression and coexpression neighborhood conservation for all pairs of genes in the data ..... ##\n",
    "build_coexp_network <- function(net, method = \"spearman\", flag = \"rank\"){\n",
    "    \n",
    "    # Calculate correlation coefficients\n",
    "    genes = rownames(net)\n",
    "    net = net[rowSums(net) > 0, ]\n",
    "\n",
    "#     print(paste0(\"... \",dim(net)[1],\" of \",length(genes), \" genes have non-zero expression\" ))\n",
    "\n",
    "    net = cor(t(net), method = method)\n",
    "    \n",
    "    # Create network\n",
    "    temp = net[upper.tri(net, diag = T)]\n",
    "    if (flag == \"abs\"){\n",
    "        temp = abs(temp)\n",
    "    }\n",
    "    \n",
    "#     print(\"...ranking\")\n",
    "    temp = rank(temp, ties.method = \"average\")  \n",
    "\n",
    "#     print(\"...reconstructing matrix\")\n",
    "    net[upper.tri(net, diag = T)] = temp\n",
    "\n",
    "    net = t(net)\n",
    "    net[upper.tri(net, diag = T)] = temp\n",
    "\n",
    "    net = net / max(net, na.rm = T)\n",
    "    med = median(net, na.rm = T)\n",
    "\n",
    "    ind = setdiff(genes, rownames(net))   # which genes are missing?\n",
    "\n",
    "    temp = matrix(med, length(ind), dim(net)[2])\n",
    "    rownames(temp) = ind\n",
    "\n",
    "    net = rbind(net, temp)\n",
    "    temp = matrix(med, dim(net)[1], length(ind))\n",
    "    colnames(temp) = ind\n",
    "    net = cbind(net, temp)\n",
    "\n",
    "    # reorder to original\n",
    "    net = net[genes, genes]\n",
    "    diag(net) = 1\n",
    "\n",
    "    return(net)\n",
    "}\n",
    "\n",
    "get_top_pairs_mat <- function (mat.rank, n){ \n",
    "  f = mat.rank>dim(mat.rank)[1]-n\n",
    "  mat.pairs = mat.rank*0\n",
    "  mat.pairs[f] = 1\n",
    "  return(mat.pairs)\n",
    "}   \n",
    "\n",
    "auroc_analytic3 <- function (mat, np, nL){          \n",
    "  ranks = 1:nL\n",
    "  dr = np*(nL - np)\n",
    "  aa = lapply(1:dim(mat)[1], function(i) (mat[i,]-sum(ranks[1:np[i]]))/(dr[i]))                           \n",
    "  auroc <- t(matrix(unlist(aa), nrow = nL))\n",
    "  return(auroc)\n",
    "}                \n",
    "\n",
    "get_NM_labels <- function(omnew, matn){\n",
    "  mat_labels = omnew\n",
    "  for (j in 1:dim(matn)[1]){   \n",
    "        if(length(which(matn[j,]==1))>1){   # many genes have just 1 top hit in meta nets - don't want to consider these\n",
    "            mat_labels[j,] = colSums(omnew[which(matn[j,]==1),])  \n",
    "        } \n",
    "  }\n",
    "  return(mat_labels)\n",
    "} \n",
    "\n",
    "# specificity calculation\n",
    "calc_spec <- function (res, np, nL){    \n",
    "  \n",
    "  ranks = 1:nL\n",
    "  mini = sum(ranks[1:np])\n",
    "  range = np*(nL - np)\n",
    "  \n",
    "  temp = t(apply(res, 1, function(x) rank(x, ties.method = \"average\")))      \n",
    "  spec <- (temp - mini)/range   \n",
    "  #spec = spec*orthologmat\n",
    "  \n",
    "  return(spec)\n",
    "}  \n",
    "\n",
    "# aggregate specificity calculation\n",
    "calc_agg_spec <- function (res, orthologmat, nL){    \n",
    "  \n",
    "  temp = t(apply(res, 1, function(x) rank(x, ties.method = \"average\")))  # row-wise ranks\n",
    "  temp2 = rowSums(temp*orthologmat)\n",
    "  ranks = 1:nL\n",
    "  np = rowSums(orthologmat)\n",
    "  dr = np*(nL - np)\n",
    "  \n",
    "  bb = lapply(1:length(temp2), function(i) (temp2[i]-sum(ranks[1:np[i]]))/(dr[i]))                           \n",
    "  aggspec <- t(matrix(unlist(bb), nrow = 1))\n",
    "  return(aggspec)\n",
    "}"
   ]
  },
  {
   "cell_type": "code",
   "execution_count": 4,
   "id": "a56a369b-722e-402f-bf12-9bf6b574c7d8",
   "metadata": {},
   "outputs": [
    {
     "data": {
      "text/html": [
       "<table class=\"dataframe\">\n",
       "<caption>A matrix: 3 × 25 of type dbl</caption>\n",
       "<thead>\n",
       "\t<tr><th></th><th scope=col>TL5</th><th scope=col>evm_leaf_primordia</th><th scope=col>lvm_leaf_primordia</th><th scope=col>mvm_leaf_primordia</th><th scope=col>sym_leaf_primordia</th><th scope=col>tm_leaf_primordia</th><th scope=col>M82_apices</th><th scope=col>M82_pollen</th><th scope=col>Heintz_Root</th><th scope=col>Heinz_10dBreakerFruit</th><th scope=col>⋯</th><th scope=col>Heinz_FlowerBud</th><th scope=col>Heinz_Leaf</th><th scope=col>Heinz_MatureGreenFruit</th><th scope=col>M82_EVM</th><th scope=col>M82_FM</th><th scope=col>M82_LVM</th><th scope=col>M82_MVM</th><th scope=col>M82_SIM</th><th scope=col>M82_SYM</th><th scope=col>M82_TM</th></tr>\n",
       "</thead>\n",
       "<tbody>\n",
       "\t<tr><th scope=row>Solyc01g010215</th><td> 7.146936</td><td>14.20113</td><td> 52.26842</td><td> 27.57112</td><td>136.69053</td><td> 87.12926</td><td> 75.98714</td><td>42.10089</td><td>53.35794</td><td>53.97858</td><td>⋯</td><td>14.605567</td><td>16.225133</td><td>15.524247</td><td>13.188670</td><td>0</td><td>0</td><td>0</td><td>0</td><td>0</td><td>0</td></tr>\n",
       "\t<tr><th scope=row>Solyc01g010220</th><td> 8.270879</td><td>11.33616</td><td> 43.55239</td><td> 19.26256</td><td> 71.21647</td><td> 54.85853</td><td> 40.68079</td><td>16.22233</td><td>32.69143</td><td>35.64889</td><td>⋯</td><td> 8.079807</td><td>11.401773</td><td> 9.502044</td><td>21.270478</td><td>0</td><td>0</td><td>0</td><td>0</td><td>0</td><td>0</td></tr>\n",
       "\t<tr><th scope=row>Solyc01g010230</th><td>24.204666</td><td>17.42701</td><td>244.40861</td><td>205.89054</td><td>171.46499</td><td>234.20875</td><td>167.78112</td><td>66.23232</td><td>80.18749</td><td>83.17275</td><td>⋯</td><td> 1.079160</td><td> 3.077971</td><td> 1.865762</td><td> 1.862704</td><td>0</td><td>0</td><td>0</td><td>0</td><td>0</td><td>0</td></tr>\n",
       "</tbody>\n",
       "</table>\n"
      ],
      "text/latex": [
       "A matrix: 3 × 25 of type dbl\n",
       "\\begin{tabular}{r|lllllllllllllllllllll}\n",
       "  & TL5 & evm\\_leaf\\_primordia & lvm\\_leaf\\_primordia & mvm\\_leaf\\_primordia & sym\\_leaf\\_primordia & tm\\_leaf\\_primordia & M82\\_apices & M82\\_pollen & Heintz\\_Root & Heinz\\_10dBreakerFruit & ⋯ & Heinz\\_FlowerBud & Heinz\\_Leaf & Heinz\\_MatureGreenFruit & M82\\_EVM & M82\\_FM & M82\\_LVM & M82\\_MVM & M82\\_SIM & M82\\_SYM & M82\\_TM\\\\\n",
       "\\hline\n",
       "\tSolyc01g010215 &  7.146936 & 14.20113 &  52.26842 &  27.57112 & 136.69053 &  87.12926 &  75.98714 & 42.10089 & 53.35794 & 53.97858 & ⋯ & 14.605567 & 16.225133 & 15.524247 & 13.188670 & 0 & 0 & 0 & 0 & 0 & 0\\\\\n",
       "\tSolyc01g010220 &  8.270879 & 11.33616 &  43.55239 &  19.26256 &  71.21647 &  54.85853 &  40.68079 & 16.22233 & 32.69143 & 35.64889 & ⋯ &  8.079807 & 11.401773 &  9.502044 & 21.270478 & 0 & 0 & 0 & 0 & 0 & 0\\\\\n",
       "\tSolyc01g010230 & 24.204666 & 17.42701 & 244.40861 & 205.89054 & 171.46499 & 234.20875 & 167.78112 & 66.23232 & 80.18749 & 83.17275 & ⋯ &  1.079160 &  3.077971 &  1.865762 &  1.862704 & 0 & 0 & 0 & 0 & 0 & 0\\\\\n",
       "\\end{tabular}\n"
      ],
      "text/markdown": [
       "\n",
       "A matrix: 3 × 25 of type dbl\n",
       "\n",
       "| <!--/--> | TL5 | evm_leaf_primordia | lvm_leaf_primordia | mvm_leaf_primordia | sym_leaf_primordia | tm_leaf_primordia | M82_apices | M82_pollen | Heintz_Root | Heinz_10dBreakerFruit | ⋯ | Heinz_FlowerBud | Heinz_Leaf | Heinz_MatureGreenFruit | M82_EVM | M82_FM | M82_LVM | M82_MVM | M82_SIM | M82_SYM | M82_TM |\n",
       "|---|---|---|---|---|---|---|---|---|---|---|---|---|---|---|---|---|---|---|---|---|---|\n",
       "| Solyc01g010215 |  7.146936 | 14.20113 |  52.26842 |  27.57112 | 136.69053 |  87.12926 |  75.98714 | 42.10089 | 53.35794 | 53.97858 | ⋯ | 14.605567 | 16.225133 | 15.524247 | 13.188670 | 0 | 0 | 0 | 0 | 0 | 0 |\n",
       "| Solyc01g010220 |  8.270879 | 11.33616 |  43.55239 |  19.26256 |  71.21647 |  54.85853 |  40.68079 | 16.22233 | 32.69143 | 35.64889 | ⋯ |  8.079807 | 11.401773 |  9.502044 | 21.270478 | 0 | 0 | 0 | 0 | 0 | 0 |\n",
       "| Solyc01g010230 | 24.204666 | 17.42701 | 244.40861 | 205.89054 | 171.46499 | 234.20875 | 167.78112 | 66.23232 | 80.18749 | 83.17275 | ⋯ |  1.079160 |  3.077971 |  1.865762 |  1.862704 | 0 | 0 | 0 | 0 | 0 | 0 |\n",
       "\n"
      ],
      "text/plain": [
       "               TL5       evm_leaf_primordia lvm_leaf_primordia\n",
       "Solyc01g010215  7.146936 14.20113            52.26842         \n",
       "Solyc01g010220  8.270879 11.33616            43.55239         \n",
       "Solyc01g010230 24.204666 17.42701           244.40861         \n",
       "               mvm_leaf_primordia sym_leaf_primordia tm_leaf_primordia\n",
       "Solyc01g010215  27.57112          136.69053           87.12926        \n",
       "Solyc01g010220  19.26256           71.21647           54.85853        \n",
       "Solyc01g010230 205.89054          171.46499          234.20875        \n",
       "               M82_apices M82_pollen Heintz_Root Heinz_10dBreakerFruit ⋯\n",
       "Solyc01g010215  75.98714  42.10089   53.35794    53.97858              ⋯\n",
       "Solyc01g010220  40.68079  16.22233   32.69143    35.64889              ⋯\n",
       "Solyc01g010230 167.78112  66.23232   80.18749    83.17275              ⋯\n",
       "               Heinz_FlowerBud Heinz_Leaf Heinz_MatureGreenFruit M82_EVM  \n",
       "Solyc01g010215 14.605567       16.225133  15.524247              13.188670\n",
       "Solyc01g010220  8.079807       11.401773   9.502044              21.270478\n",
       "Solyc01g010230  1.079160        3.077971   1.865762               1.862704\n",
       "               M82_FM M82_LVM M82_MVM M82_SIM M82_SYM M82_TM\n",
       "Solyc01g010215 0      0       0       0       0       0     \n",
       "Solyc01g010220 0      0       0       0       0       0     \n",
       "Solyc01g010230 0      0       0       0       0       0     "
      ]
     },
     "metadata": {},
     "output_type": "display_data"
    }
   ],
   "source": [
    "# load TPM-normalized 25-tissue expression atlas\n",
    "tom3 = as.matrix(read.delim('tomato_expression_atlas_25_tissue.csv', sep = ','))\n",
    "tom3[1000:1002,]"
   ]
  },
  {
   "cell_type": "code",
   "execution_count": 11,
   "id": "8881dcc9-2219-4298-89af-bdcf541ea9fb",
   "metadata": {},
   "outputs": [
    {
     "data": {
      "text/html": [
       "<table class=\"dataframe\">\n",
       "<caption>A data.frame: 3 × 29</caption>\n",
       "<thead>\n",
       "\t<tr><th></th><th scope=col>TL5</th><th scope=col>evm_leaf_primordia</th><th scope=col>lvm_leaf_primordia</th><th scope=col>mvm_leaf_primordia</th><th scope=col>sym_leaf_primordia</th><th scope=col>tm_leaf_primordia</th><th scope=col>M82_apices</th><th scope=col>M82_pollen</th><th scope=col>Heintz_Root</th><th scope=col>Heinz_10dBreakerFruit</th><th scope=col>⋯</th><th scope=col>M82_FM</th><th scope=col>M82_LVM</th><th scope=col>M82_MVM</th><th scope=col>M82_SIM</th><th scope=col>M82_SYM</th><th scope=col>M82_TM</th><th scope=col>expr</th><th scope=col>num_tissues_exp</th><th scope=col>exp_type</th><th scope=col>tau</th></tr>\n",
       "\t<tr><th></th><th scope=col>&lt;dbl&gt;</th><th scope=col>&lt;dbl&gt;</th><th scope=col>&lt;dbl&gt;</th><th scope=col>&lt;dbl&gt;</th><th scope=col>&lt;dbl&gt;</th><th scope=col>&lt;dbl&gt;</th><th scope=col>&lt;dbl&gt;</th><th scope=col>&lt;dbl&gt;</th><th scope=col>&lt;dbl&gt;</th><th scope=col>&lt;dbl&gt;</th><th scope=col>⋯</th><th scope=col>&lt;int&gt;</th><th scope=col>&lt;int&gt;</th><th scope=col>&lt;int&gt;</th><th scope=col>&lt;int&gt;</th><th scope=col>&lt;int&gt;</th><th scope=col>&lt;int&gt;</th><th scope=col>&lt;chr&gt;</th><th scope=col>&lt;int&gt;</th><th scope=col>&lt;chr&gt;</th><th scope=col>&lt;dbl&gt;</th></tr>\n",
       "</thead>\n",
       "<tbody>\n",
       "\t<tr><th scope=row>Solyc01g010215</th><td> 7.146936</td><td>14.20113</td><td> 52.26842</td><td> 27.57112</td><td>136.69053</td><td> 87.12926</td><td> 75.98714</td><td>42.10089</td><td>53.35794</td><td>53.97858</td><td>⋯</td><td>0</td><td>0</td><td>0</td><td>0</td><td>0</td><td>0</td><td>expressed</td><td>19</td><td>ubiquitous</td><td>0.8071723</td></tr>\n",
       "\t<tr><th scope=row>Solyc01g010220</th><td> 8.270879</td><td>11.33616</td><td> 43.55239</td><td> 19.26256</td><td> 71.21647</td><td> 54.85853</td><td> 40.68079</td><td>16.22233</td><td>32.69143</td><td>35.64889</td><td>⋯</td><td>0</td><td>0</td><td>0</td><td>0</td><td>0</td><td>0</td><td>expressed</td><td>19</td><td>ubiquitous</td><td>0.7547915</td></tr>\n",
       "\t<tr><th scope=row>Solyc01g010230</th><td>24.204666</td><td>17.42701</td><td>244.40861</td><td>205.89054</td><td>171.46499</td><td>234.20875</td><td>167.78112</td><td>66.23232</td><td>80.18749</td><td>83.17275</td><td>⋯</td><td>0</td><td>0</td><td>0</td><td>0</td><td>0</td><td>0</td><td>expressed</td><td>16</td><td>broad     </td><td>0.7819432</td></tr>\n",
       "</tbody>\n",
       "</table>\n"
      ],
      "text/latex": [
       "A data.frame: 3 × 29\n",
       "\\begin{tabular}{r|lllllllllllllllllllll}\n",
       "  & TL5 & evm\\_leaf\\_primordia & lvm\\_leaf\\_primordia & mvm\\_leaf\\_primordia & sym\\_leaf\\_primordia & tm\\_leaf\\_primordia & M82\\_apices & M82\\_pollen & Heintz\\_Root & Heinz\\_10dBreakerFruit & ⋯ & M82\\_FM & M82\\_LVM & M82\\_MVM & M82\\_SIM & M82\\_SYM & M82\\_TM & expr & num\\_tissues\\_exp & exp\\_type & tau\\\\\n",
       "  & <dbl> & <dbl> & <dbl> & <dbl> & <dbl> & <dbl> & <dbl> & <dbl> & <dbl> & <dbl> & ⋯ & <int> & <int> & <int> & <int> & <int> & <int> & <chr> & <int> & <chr> & <dbl>\\\\\n",
       "\\hline\n",
       "\tSolyc01g010215 &  7.146936 & 14.20113 &  52.26842 &  27.57112 & 136.69053 &  87.12926 &  75.98714 & 42.10089 & 53.35794 & 53.97858 & ⋯ & 0 & 0 & 0 & 0 & 0 & 0 & expressed & 19 & ubiquitous & 0.8071723\\\\\n",
       "\tSolyc01g010220 &  8.270879 & 11.33616 &  43.55239 &  19.26256 &  71.21647 &  54.85853 &  40.68079 & 16.22233 & 32.69143 & 35.64889 & ⋯ & 0 & 0 & 0 & 0 & 0 & 0 & expressed & 19 & ubiquitous & 0.7547915\\\\\n",
       "\tSolyc01g010230 & 24.204666 & 17.42701 & 244.40861 & 205.89054 & 171.46499 & 234.20875 & 167.78112 & 66.23232 & 80.18749 & 83.17275 & ⋯ & 0 & 0 & 0 & 0 & 0 & 0 & expressed & 16 & broad      & 0.7819432\\\\\n",
       "\\end{tabular}\n"
      ],
      "text/markdown": [
       "\n",
       "A data.frame: 3 × 29\n",
       "\n",
       "| <!--/--> | TL5 &lt;dbl&gt; | evm_leaf_primordia &lt;dbl&gt; | lvm_leaf_primordia &lt;dbl&gt; | mvm_leaf_primordia &lt;dbl&gt; | sym_leaf_primordia &lt;dbl&gt; | tm_leaf_primordia &lt;dbl&gt; | M82_apices &lt;dbl&gt; | M82_pollen &lt;dbl&gt; | Heintz_Root &lt;dbl&gt; | Heinz_10dBreakerFruit &lt;dbl&gt; | ⋯ ⋯ | M82_FM &lt;int&gt; | M82_LVM &lt;int&gt; | M82_MVM &lt;int&gt; | M82_SIM &lt;int&gt; | M82_SYM &lt;int&gt; | M82_TM &lt;int&gt; | expr &lt;chr&gt; | num_tissues_exp &lt;int&gt; | exp_type &lt;chr&gt; | tau &lt;dbl&gt; |\n",
       "|---|---|---|---|---|---|---|---|---|---|---|---|---|---|---|---|---|---|---|---|---|---|\n",
       "| Solyc01g010215 |  7.146936 | 14.20113 |  52.26842 |  27.57112 | 136.69053 |  87.12926 |  75.98714 | 42.10089 | 53.35794 | 53.97858 | ⋯ | 0 | 0 | 0 | 0 | 0 | 0 | expressed | 19 | ubiquitous | 0.8071723 |\n",
       "| Solyc01g010220 |  8.270879 | 11.33616 |  43.55239 |  19.26256 |  71.21647 |  54.85853 |  40.68079 | 16.22233 | 32.69143 | 35.64889 | ⋯ | 0 | 0 | 0 | 0 | 0 | 0 | expressed | 19 | ubiquitous | 0.7547915 |\n",
       "| Solyc01g010230 | 24.204666 | 17.42701 | 244.40861 | 205.89054 | 171.46499 | 234.20875 | 167.78112 | 66.23232 | 80.18749 | 83.17275 | ⋯ | 0 | 0 | 0 | 0 | 0 | 0 | expressed | 16 | broad      | 0.7819432 |\n",
       "\n"
      ],
      "text/plain": [
       "               TL5       evm_leaf_primordia lvm_leaf_primordia\n",
       "Solyc01g010215  7.146936 14.20113            52.26842         \n",
       "Solyc01g010220  8.270879 11.33616            43.55239         \n",
       "Solyc01g010230 24.204666 17.42701           244.40861         \n",
       "               mvm_leaf_primordia sym_leaf_primordia tm_leaf_primordia\n",
       "Solyc01g010215  27.57112          136.69053           87.12926        \n",
       "Solyc01g010220  19.26256           71.21647           54.85853        \n",
       "Solyc01g010230 205.89054          171.46499          234.20875        \n",
       "               M82_apices M82_pollen Heintz_Root Heinz_10dBreakerFruit ⋯ M82_FM\n",
       "Solyc01g010215  75.98714  42.10089   53.35794    53.97858              ⋯ 0     \n",
       "Solyc01g010220  40.68079  16.22233   32.69143    35.64889              ⋯ 0     \n",
       "Solyc01g010230 167.78112  66.23232   80.18749    83.17275              ⋯ 0     \n",
       "               M82_LVM M82_MVM M82_SIM M82_SYM M82_TM expr      num_tissues_exp\n",
       "Solyc01g010215 0       0       0       0       0      expressed 19             \n",
       "Solyc01g010220 0       0       0       0       0      expressed 19             \n",
       "Solyc01g010230 0       0       0       0       0      expressed 16             \n",
       "               exp_type   tau      \n",
       "Solyc01g010215 ubiquitous 0.8071723\n",
       "Solyc01g010220 ubiquitous 0.7547915\n",
       "Solyc01g010230 broad      0.7819432"
      ]
     },
     "metadata": {},
     "output_type": "display_data"
    }
   ],
   "source": [
    "# load same dataset with additional columns containing tissue-specificity, no. of tissues where gene has higher-than-median expression, expression breadth\n",
    "tom3p = read.delim('tomato_gene_exp_atlas_25_tissue.csv', sep = ',')\n",
    "tom3p[1000:1002,]"
   ]
  },
  {
   "cell_type": "code",
   "execution_count": 9,
   "id": "970fc12d-d4dc-44a0-8788-8dbf7aafcd6f",
   "metadata": {},
   "outputs": [
    {
     "data": {
      "text/html": [
       "10167"
      ],
      "text/latex": [
       "10167"
      ],
      "text/markdown": [
       "10167"
      ],
      "text/plain": [
       "[1] 10167"
      ]
     },
     "metadata": {},
     "output_type": "display_data"
    },
    {
     "data": {
      "text/html": [
       "<style>\n",
       ".list-inline {list-style: none; margin:0; padding: 0}\n",
       ".list-inline>li {display: inline-block}\n",
       ".list-inline>li:not(:last-child)::after {content: \"\\00b7\"; padding: 0 .5ex}\n",
       "</style>\n",
       "<ol class=list-inline><li>34109</li><li>25</li></ol>\n"
      ],
      "text/latex": [
       "\\begin{enumerate*}\n",
       "\\item 34109\n",
       "\\item 25\n",
       "\\end{enumerate*}\n"
      ],
      "text/markdown": [
       "1. 34109\n",
       "2. 25\n",
       "\n",
       "\n"
      ],
      "text/plain": [
       "[1] 34109    25"
      ]
     },
     "metadata": {},
     "output_type": "display_data"
    },
    {
     "data": {
      "text/html": [
       "<style>\n",
       ".list-inline {list-style: none; margin:0; padding: 0}\n",
       ".list-inline>li {display: inline-block}\n",
       ".list-inline>li:not(:last-child)::after {content: \"\\00b7\"; padding: 0 .5ex}\n",
       "</style>\n",
       "<ol class=list-inline><li>23942</li><li>25</li></ol>\n"
      ],
      "text/latex": [
       "\\begin{enumerate*}\n",
       "\\item 23942\n",
       "\\item 25\n",
       "\\end{enumerate*}\n"
      ],
      "text/markdown": [
       "1. 23942\n",
       "2. 25\n",
       "\n",
       "\n"
      ],
      "text/plain": [
       "[1] 23942    25"
      ]
     },
     "metadata": {},
     "output_type": "display_data"
    }
   ],
   "source": [
    "# gene is expressed if it has at least median expression in the tissue\n",
    "sum(tom3p$num_tissues_exp==0)\n",
    "dim(tom3)\n",
    "tom3 = tom3[which(tom3p$num_tissues_exp!=0),]\n",
    "dim(tom3)"
   ]
  },
  {
   "cell_type": "code",
   "execution_count": 12,
   "id": "afbc2fe2-cb25-47ca-88c2-af409e3cffe5",
   "metadata": {},
   "outputs": [
    {
     "data": {
      "text/html": [
       "29315"
      ],
      "text/latex": [
       "29315"
      ],
      "text/markdown": [
       "29315"
      ],
      "text/plain": [
       "[1] 29315"
      ]
     },
     "metadata": {},
     "output_type": "display_data"
    }
   ],
   "source": [
    "# gene is expressed if it has at least median expression in the tissue\n",
    "sum(rowSums(tom3p[,1:25])!=0)"
   ]
  },
  {
   "cell_type": "code",
   "execution_count": 10,
   "id": "d47fad05-4b27-4a2f-9d64-5cf0aa03e26b",
   "metadata": {},
   "outputs": [],
   "source": [
    "# get coexp network for Anat's new ITAG4.0 merged tomato data\n",
    "prionet_atlas = build_coexp_network(tom3, method = 'pearson')"
   ]
  },
  {
   "cell_type": "code",
   "execution_count": 21,
   "id": "72918e56-a05b-48e5-8b06-6e18c961b3da",
   "metadata": {},
   "outputs": [
    {
     "data": {
      "text/html": [
       "<table class=\"dataframe\">\n",
       "<caption>A matrix: 2 × 2 of type dbl</caption>\n",
       "<thead>\n",
       "\t<tr><th></th><th scope=col>Solyc00g500023</th><th scope=col>Solyc00g500062</th></tr>\n",
       "</thead>\n",
       "<tbody>\n",
       "\t<tr><th scope=row>Solyc00g500023</th><td>1.00000</td><td>0.99864</td></tr>\n",
       "\t<tr><th scope=row>Solyc00g500062</th><td>0.99864</td><td>1.00000</td></tr>\n",
       "</tbody>\n",
       "</table>\n"
      ],
      "text/latex": [
       "A matrix: 2 × 2 of type dbl\n",
       "\\begin{tabular}{r|ll}\n",
       "  & Solyc00g500023 & Solyc00g500062\\\\\n",
       "\\hline\n",
       "\tSolyc00g500023 & 1.00000 & 0.99864\\\\\n",
       "\tSolyc00g500062 & 0.99864 & 1.00000\\\\\n",
       "\\end{tabular}\n"
      ],
      "text/markdown": [
       "\n",
       "A matrix: 2 × 2 of type dbl\n",
       "\n",
       "| <!--/--> | Solyc00g500023 | Solyc00g500062 |\n",
       "|---|---|---|\n",
       "| Solyc00g500023 | 1.00000 | 0.99864 |\n",
       "| Solyc00g500062 | 0.99864 | 1.00000 |\n",
       "\n"
      ],
      "text/plain": [
       "               Solyc00g500023 Solyc00g500062\n",
       "Solyc00g500023 1.00000        0.99864       \n",
       "Solyc00g500062 0.99864        1.00000       "
      ]
     },
     "metadata": {},
     "output_type": "display_data"
    }
   ],
   "source": [
    "# save atlas coexpression data for 23k genes\n",
    "prionet_atlas[1:2,1:2]\n",
    "\n",
    "library(rhdf5)\n",
    "rfile = 'tomato_atlas_25_tissue_coexpression.h5'   \n",
    "               \n",
    "suppressWarnings(h5createFile(rfile)) \n",
    "h5createDataset(rfile, \"prionet_atlas\", c(dim(prionet_atlas)[1],dim(prionet_atlas)[2]), chunk = c(101,101))\n",
    "h5createDataset(rfile, \"sp_netid\", dims = dim(prionet_atlas)[1], storage.mode = \"character\", size = max(1+nchar(rownames(prionet_atlas))))\n",
    "h5createDataset(rfile, \"chunkSize\", 1)\n",
    "\n",
    "h5write(prionet_atlas, rfile, \"prionet_atlas\")         \n",
    "h5write(rownames(prionet_atlas), rfile, \"sp_netid\")  \n",
    "h5write(101, rfile, name = \"chunkSize\")      \n",
    "h5closeAll()   "
   ]
  },
  {
   "cell_type": "code",
   "execution_count": null,
   "id": "58a29388-fb95-4871-b0af-bf945e8496b4",
   "metadata": {},
   "outputs": [],
   "source": [
    "# .....     conservation      ..... #"
   ]
  },
  {
   "cell_type": "code",
   "execution_count": 11,
   "id": "48e2bcf8-85bd-498d-8d59-d2488e690f43",
   "metadata": {},
   "outputs": [
    {
     "data": {
      "text/html": [
       "<table class=\"dataframe\">\n",
       "<caption>A matrix: 5 × 5 of type dbl</caption>\n",
       "<thead>\n",
       "\t<tr><th></th><th scope=col>Solyc00g500023</th><th scope=col>Solyc00g500062</th><th scope=col>Solyc00g500063</th><th scope=col>Solyc00g500065</th><th scope=col>Solyc00g500066</th></tr>\n",
       "</thead>\n",
       "<tbody>\n",
       "\t<tr><th scope=row>Solyc00g500023</th><td>0.0000000</td><td>0.9994152</td><td>0.9984128</td><td>0.9985798</td><td>0.9979742</td></tr>\n",
       "\t<tr><th scope=row>Solyc00g500062</th><td>0.9995823</td><td>0.0000000</td><td>0.9985590</td><td>0.9982039</td><td>0.9968673</td></tr>\n",
       "\t<tr><th scope=row>Solyc00g500063</th><td>0.9993735</td><td>0.9522159</td><td>0.0000000</td><td>0.9998329</td><td>0.9980368</td></tr>\n",
       "\t<tr><th scope=row>Solyc00g500065</th><td>0.9991228</td><td>0.9994361</td><td>0.9541373</td><td>0.0000000</td><td>0.9984336</td></tr>\n",
       "\t<tr><th scope=row>Solyc00g500066</th><td>0.9986634</td><td>0.9969717</td><td>0.9550979</td><td>0.9551397</td><td>0.0000000</td></tr>\n",
       "</tbody>\n",
       "</table>\n"
      ],
      "text/latex": [
       "A matrix: 5 × 5 of type dbl\n",
       "\\begin{tabular}{r|lllll}\n",
       "  & Solyc00g500023 & Solyc00g500062 & Solyc00g500063 & Solyc00g500065 & Solyc00g500066\\\\\n",
       "\\hline\n",
       "\tSolyc00g500023 & 0.0000000 & 0.9994152 & 0.9984128 & 0.9985798 & 0.9979742\\\\\n",
       "\tSolyc00g500062 & 0.9995823 & 0.0000000 & 0.9985590 & 0.9982039 & 0.9968673\\\\\n",
       "\tSolyc00g500063 & 0.9993735 & 0.9522159 & 0.0000000 & 0.9998329 & 0.9980368\\\\\n",
       "\tSolyc00g500065 & 0.9991228 & 0.9994361 & 0.9541373 & 0.0000000 & 0.9984336\\\\\n",
       "\tSolyc00g500066 & 0.9986634 & 0.9969717 & 0.9550979 & 0.9551397 & 0.0000000\\\\\n",
       "\\end{tabular}\n"
      ],
      "text/markdown": [
       "\n",
       "A matrix: 5 × 5 of type dbl\n",
       "\n",
       "| <!--/--> | Solyc00g500023 | Solyc00g500062 | Solyc00g500063 | Solyc00g500065 | Solyc00g500066 |\n",
       "|---|---|---|---|---|---|\n",
       "| Solyc00g500023 | 0.0000000 | 0.9994152 | 0.9984128 | 0.9985798 | 0.9979742 |\n",
       "| Solyc00g500062 | 0.9995823 | 0.0000000 | 0.9985590 | 0.9982039 | 0.9968673 |\n",
       "| Solyc00g500063 | 0.9993735 | 0.9522159 | 0.0000000 | 0.9998329 | 0.9980368 |\n",
       "| Solyc00g500065 | 0.9991228 | 0.9994361 | 0.9541373 | 0.0000000 | 0.9984336 |\n",
       "| Solyc00g500066 | 0.9986634 | 0.9969717 | 0.9550979 | 0.9551397 | 0.0000000 |\n",
       "\n"
      ],
      "text/plain": [
       "               Solyc00g500023 Solyc00g500062 Solyc00g500063 Solyc00g500065\n",
       "Solyc00g500023 0.0000000      0.9994152      0.9984128      0.9985798     \n",
       "Solyc00g500062 0.9995823      0.0000000      0.9985590      0.9982039     \n",
       "Solyc00g500063 0.9993735      0.9522159      0.0000000      0.9998329     \n",
       "Solyc00g500065 0.9991228      0.9994361      0.9541373      0.0000000     \n",
       "Solyc00g500066 0.9986634      0.9969717      0.9550979      0.9551397     \n",
       "               Solyc00g500066\n",
       "Solyc00g500023 0.9979742     \n",
       "Solyc00g500062 0.9968673     \n",
       "Solyc00g500063 0.9980368     \n",
       "Solyc00g500065 0.9984336     \n",
       "Solyc00g500066 0.0000000     "
      ]
     },
     "metadata": {},
     "output_type": "display_data"
    },
    {
     "data": {
      "text/html": [
       "<style>\n",
       ".list-inline {list-style: none; margin:0; padding: 0}\n",
       ".list-inline>li {display: inline-block}\n",
       ".list-inline>li:not(:last-child)::after {content: \"\\00b7\"; padding: 0 .5ex}\n",
       "</style>\n",
       "<ol class=list-inline><li>23942</li><li>23942</li></ol>\n"
      ],
      "text/latex": [
       "\\begin{enumerate*}\n",
       "\\item 23942\n",
       "\\item 23942\n",
       "\\end{enumerate*}\n"
      ],
      "text/markdown": [
       "1. 23942\n",
       "2. 23942\n",
       "\n",
       "\n"
      ],
      "text/plain": [
       "[1] 23942 23942"
      ]
     },
     "metadata": {},
     "output_type": "display_data"
    },
    {
     "data": {
      "text/html": [],
      "text/latex": [],
      "text/markdown": [],
      "text/plain": [
       "integer(0)"
      ]
     },
     "metadata": {},
     "output_type": "display_data"
    }
   ],
   "source": [
    "# calculate FC/spec for atlas data - BBH top 10s\n",
    "diag(prionet_atlas) = 0\n",
    "rowrankmat = t(apply(prionet_atlas, 1, rank, ties.method = 'random'))\n",
    "\n",
    "n = 10\n",
    "mini1 = sum(1:n)      # sum of least 10 ranks; FC\n",
    "range1 = n*(dim(prionet_atlas)[1] - n)\n",
    "mini2 = 1       # least rank; spec\n",
    "range2 = dim(prionet_atlas)[1] - 1\n",
    "\n",
    "mat1 = get_top_pairs_mat(rowrankmat, n)\n",
    "gg_sp12 = mat1%*%t(rowrankmat)    # sp1 genes predict sp2 genes this well\n",
    "fc_atlas = (gg_sp12 - mini1)/range1\n",
    "rownames(fc_atlas) = rownames(prionet_atlas)\n",
    "colnames(fc_atlas) = rownames(prionet_atlas)\n",
    "\n",
    "diag(gg_sp12) = 0\n",
    "rank_ggsp12 = t(apply(gg_sp12, 1, rank, ties.method ='average'))   # rank for spec\n",
    "sc_atlas = (rank_ggsp12 - mini2)/range2\n",
    "rownames(sc_atlas) = rownames(prionet_atlas)\n",
    "colnames(sc_atlas) = rownames(prionet_atlas)\n",
    "\n",
    "sc_atlas[1:5,1:5]\n",
    "dim(sc_atlas)\n",
    "head(which(fc_atlas>1))"
   ]
  },
  {
   "cell_type": "code",
   "execution_count": 23,
   "id": "cafa3fee-ea61-4181-af1c-fe2b122eb0c0",
   "metadata": {},
   "outputs": [],
   "source": [
    "# save files\n",
    "rfile = 'tomato_atlas_25_tissue_coexp_cons.h5'  \n",
    "               \n",
    "suppressWarnings(h5createFile(rfile)) \n",
    "h5createDataset(rfile, \"fc_atlas\", c(dim(fc_atlas)[1],dim(fc_atlas)[2]), chunk = c(101,101))\n",
    "h5createDataset(rfile, \"sc_atlas\", c(dim(fc_atlas)[1],dim(fc_atlas)[2]), chunk = c(101,101))\n",
    "h5createDataset(rfile, \"sp_netid\", dims = dim(fc_atlas)[1], storage.mode = \"character\", size = max(1+nchar(rownames(fc_atlas))))\n",
    "h5createDataset(rfile, \"chunkSize\", 1)\n",
    "\n",
    "h5write(fc_atlas, rfile, \"fc_atlas\")\n",
    "h5write(sc_atlas, rfile, \"sc_atlas\")          \n",
    "h5write(rownames(fc_atlas), rfile, \"sp_netid\")  \n",
    "h5write(101, rfile, name = \"chunkSize\")      \n",
    "h5closeAll() "
   ]
  },
  {
   "cell_type": "code",
   "execution_count": null,
   "id": "613ddb6f-88d1-4146-96c0-6ab1679b87a6",
   "metadata": {},
   "outputs": [],
   "source": [
    "# .....     get scores for Sri's list of tomato paralogs      ..... #"
   ]
  },
  {
   "cell_type": "code",
   "execution_count": 12,
   "id": "0ea9c111-561e-4fd9-acce-64ddeb6d123f",
   "metadata": {},
   "outputs": [
    {
     "data": {
      "text/html": [
       "<table class=\"dataframe\">\n",
       "<caption>A data.frame: 3 × 3</caption>\n",
       "<thead>\n",
       "\t<tr><th></th><th scope=col>Gene1</th><th scope=col>Gene2</th><th scope=col>OGs</th></tr>\n",
       "\t<tr><th></th><th scope=col>&lt;chr&gt;</th><th scope=col>&lt;chr&gt;</th><th scope=col>&lt;chr&gt;</th></tr>\n",
       "</thead>\n",
       "<tbody>\n",
       "\t<tr><th scope=row>1</th><td>Solyc01g014055</td><td>Solyc01g056575</td><td>OG0000006</td></tr>\n",
       "\t<tr><th scope=row>2</th><td>Solyc01g014055</td><td>Solyc01g058003</td><td>OG0000006</td></tr>\n",
       "\t<tr><th scope=row>3</th><td>Solyc01g014055</td><td>Solyc01g066055</td><td>OG0000006</td></tr>\n",
       "</tbody>\n",
       "</table>\n"
      ],
      "text/latex": [
       "A data.frame: 3 × 3\n",
       "\\begin{tabular}{r|lll}\n",
       "  & Gene1 & Gene2 & OGs\\\\\n",
       "  & <chr> & <chr> & <chr>\\\\\n",
       "\\hline\n",
       "\t1 & Solyc01g014055 & Solyc01g056575 & OG0000006\\\\\n",
       "\t2 & Solyc01g014055 & Solyc01g058003 & OG0000006\\\\\n",
       "\t3 & Solyc01g014055 & Solyc01g066055 & OG0000006\\\\\n",
       "\\end{tabular}\n"
      ],
      "text/markdown": [
       "\n",
       "A data.frame: 3 × 3\n",
       "\n",
       "| <!--/--> | Gene1 &lt;chr&gt; | Gene2 &lt;chr&gt; | OGs &lt;chr&gt; |\n",
       "|---|---|---|---|\n",
       "| 1 | Solyc01g014055 | Solyc01g056575 | OG0000006 |\n",
       "| 2 | Solyc01g014055 | Solyc01g058003 | OG0000006 |\n",
       "| 3 | Solyc01g014055 | Solyc01g066055 | OG0000006 |\n",
       "\n"
      ],
      "text/plain": [
       "  Gene1          Gene2          OGs      \n",
       "1 Solyc01g014055 Solyc01g056575 OG0000006\n",
       "2 Solyc01g014055 Solyc01g058003 OG0000006\n",
       "3 Solyc01g014055 Solyc01g066055 OG0000006"
      ]
     },
     "metadata": {},
     "output_type": "display_data"
    }
   ],
   "source": [
    "genes = read.delim('tomato_paralogs_Sri.csv', sep = ',')\n",
    "genes[1:3,]"
   ]
  },
  {
   "cell_type": "code",
   "execution_count": 13,
   "id": "5b5c9e78-9f50-4651-ae1c-df57bdbc5889",
   "metadata": {},
   "outputs": [
    {
     "data": {
      "text/html": [
       "<table class=\"dataframe\">\n",
       "<caption>A data.frame: 6 × 5</caption>\n",
       "<thead>\n",
       "\t<tr><th></th><th scope=col>Gene1</th><th scope=col>Gene2</th><th scope=col>OGs</th><th scope=col>exp1</th><th scope=col>exp2</th></tr>\n",
       "\t<tr><th></th><th scope=col>&lt;chr&gt;</th><th scope=col>&lt;chr&gt;</th><th scope=col>&lt;chr&gt;</th><th scope=col>&lt;int&gt;</th><th scope=col>&lt;int&gt;</th></tr>\n",
       "</thead>\n",
       "<tbody>\n",
       "\t<tr><th scope=row>25342</th><td>Solyc12g049611</td><td>Solyc12g049614</td><td>OG0036202</td><td>19</td><td>0</td></tr>\n",
       "\t<tr><th scope=row>25343</th><td>Solyc12g049611</td><td>Solyc12g049616</td><td>OG0036202</td><td>19</td><td>9</td></tr>\n",
       "\t<tr><th scope=row>25344</th><td>Solyc12g049614</td><td>Solyc12g049616</td><td>OG0036202</td><td> 0</td><td>9</td></tr>\n",
       "\t<tr><th scope=row>25345</th><td>Solyc01g103310</td><td>Solyc01g150153</td><td>OG0038467</td><td> 0</td><td>0</td></tr>\n",
       "\t<tr><th scope=row>25346</th><td>Solyc02g088950</td><td>Solyc02g088980</td><td>OG0038488</td><td> 4</td><td>3</td></tr>\n",
       "\t<tr><th scope=row>25347</th><td>Solyc08g044300</td><td>Solyc08g150123</td><td>OG0038616</td><td> 0</td><td>0</td></tr>\n",
       "</tbody>\n",
       "</table>\n"
      ],
      "text/latex": [
       "A data.frame: 6 × 5\n",
       "\\begin{tabular}{r|lllll}\n",
       "  & Gene1 & Gene2 & OGs & exp1 & exp2\\\\\n",
       "  & <chr> & <chr> & <chr> & <int> & <int>\\\\\n",
       "\\hline\n",
       "\t25342 & Solyc12g049611 & Solyc12g049614 & OG0036202 & 19 & 0\\\\\n",
       "\t25343 & Solyc12g049611 & Solyc12g049616 & OG0036202 & 19 & 9\\\\\n",
       "\t25344 & Solyc12g049614 & Solyc12g049616 & OG0036202 &  0 & 9\\\\\n",
       "\t25345 & Solyc01g103310 & Solyc01g150153 & OG0038467 &  0 & 0\\\\\n",
       "\t25346 & Solyc02g088950 & Solyc02g088980 & OG0038488 &  4 & 3\\\\\n",
       "\t25347 & Solyc08g044300 & Solyc08g150123 & OG0038616 &  0 & 0\\\\\n",
       "\\end{tabular}\n"
      ],
      "text/markdown": [
       "\n",
       "A data.frame: 6 × 5\n",
       "\n",
       "| <!--/--> | Gene1 &lt;chr&gt; | Gene2 &lt;chr&gt; | OGs &lt;chr&gt; | exp1 &lt;int&gt; | exp2 &lt;int&gt; |\n",
       "|---|---|---|---|---|---|\n",
       "| 25342 | Solyc12g049611 | Solyc12g049614 | OG0036202 | 19 | 0 |\n",
       "| 25343 | Solyc12g049611 | Solyc12g049616 | OG0036202 | 19 | 9 |\n",
       "| 25344 | Solyc12g049614 | Solyc12g049616 | OG0036202 |  0 | 9 |\n",
       "| 25345 | Solyc01g103310 | Solyc01g150153 | OG0038467 |  0 | 0 |\n",
       "| 25346 | Solyc02g088950 | Solyc02g088980 | OG0038488 |  4 | 3 |\n",
       "| 25347 | Solyc08g044300 | Solyc08g150123 | OG0038616 |  0 | 0 |\n",
       "\n"
      ],
      "text/plain": [
       "      Gene1          Gene2          OGs       exp1 exp2\n",
       "25342 Solyc12g049611 Solyc12g049614 OG0036202 19   0   \n",
       "25343 Solyc12g049611 Solyc12g049616 OG0036202 19   9   \n",
       "25344 Solyc12g049614 Solyc12g049616 OG0036202  0   9   \n",
       "25345 Solyc01g103310 Solyc01g150153 OG0038467  0   0   \n",
       "25346 Solyc02g088950 Solyc02g088980 OG0038488  4   3   \n",
       "25347 Solyc08g044300 Solyc08g150123 OG0038616  0   0   "
      ]
     },
     "metadata": {},
     "output_type": "display_data"
    },
    {
     "data": {
      "text/html": [
       "4051"
      ],
      "text/latex": [
       "4051"
      ],
      "text/markdown": [
       "4051"
      ],
      "text/plain": [
       "[1] 4051"
      ]
     },
     "metadata": {},
     "output_type": "display_data"
    }
   ],
   "source": [
    "genes$exp1 = tom3p$num_tissues_exp[match(genes$Gene1, rownames(tom3p))]\n",
    "genes$exp2 = tom3p$num_tissues_exp[match(genes$Gene2, rownames(tom3p))]\n",
    "tail(genes)\n",
    "length(which(genes$exp1>0& genes$exp2>0))"
   ]
  },
  {
   "cell_type": "code",
   "execution_count": 14,
   "id": "94e0065b-bd3c-4aef-b6c8-b1e08e8c7be5",
   "metadata": {},
   "outputs": [
    {
     "name": "stdout",
     "output_type": "stream",
     "text": [
      "================================================================================"
     ]
    }
   ],
   "source": [
    "# get coexp and cons scores for tomato paralogs\n",
    "genes$coexp_atlas = NA\n",
    "genes$FC_atlas = NA\n",
    "genes$spec_atlas = NA\n",
    "pb = txtProgressBar(min = 0, max = dim(genes)[1], initial = 0)\n",
    "\n",
    "for(ii in 1:dim(genes)[1]){\n",
    "    id1 = match(unlist(genes[ii,1:2]), rownames(prionet_atlas))    \n",
    "    \n",
    "    if(!is.na(sum(id1))){\n",
    "        genes$coexp_atlas[ii] <- prionet_atlas[id1[1], id1[2]]\n",
    "        genes$FC_atlas[ii] <- 0.5*(fc_atlas[id1[1], id1[2]] + fc_atlas[id1[2], id1[1]])\n",
    "        genes$spec_atlas[ii] <- 0.5*(sc_atlas[id1[1], id1[2]] + sc_atlas[id1[2], id1[1]])\n",
    "    }\n",
    "            \n",
    "    setTxtProgressBar(pb, ii)   \n",
    "}"
   ]
  },
  {
   "cell_type": "code",
   "execution_count": 15,
   "id": "418b8625-13ab-4abf-8677-54ae01cb0bfe",
   "metadata": {},
   "outputs": [
    {
     "data": {
      "text/html": [
       "<table class=\"dataframe\">\n",
       "<caption>A data.frame: 6 × 8</caption>\n",
       "<thead>\n",
       "\t<tr><th></th><th scope=col>Gene1</th><th scope=col>Gene2</th><th scope=col>OGs</th><th scope=col>exp1</th><th scope=col>exp2</th><th scope=col>coexp_atlas</th><th scope=col>FC_atlas</th><th scope=col>spec_atlas</th></tr>\n",
       "\t<tr><th></th><th scope=col>&lt;chr&gt;</th><th scope=col>&lt;chr&gt;</th><th scope=col>&lt;chr&gt;</th><th scope=col>&lt;int&gt;</th><th scope=col>&lt;int&gt;</th><th scope=col>&lt;dbl&gt;</th><th scope=col>&lt;dbl&gt;</th><th scope=col>&lt;dbl&gt;</th></tr>\n",
       "</thead>\n",
       "<tbody>\n",
       "\t<tr><th scope=row>25342</th><td>Solyc12g049611</td><td>Solyc12g049614</td><td>OG0036202</td><td>19</td><td>0</td><td>       NA</td><td>       NA</td><td>       NA</td></tr>\n",
       "\t<tr><th scope=row>25343</th><td>Solyc12g049611</td><td>Solyc12g049616</td><td>OG0036202</td><td>19</td><td>9</td><td>0.8225402</td><td>0.6773671</td><td>0.5723863</td></tr>\n",
       "\t<tr><th scope=row>25344</th><td>Solyc12g049614</td><td>Solyc12g049616</td><td>OG0036202</td><td> 0</td><td>9</td><td>       NA</td><td>       NA</td><td>       NA</td></tr>\n",
       "\t<tr><th scope=row>25345</th><td>Solyc01g103310</td><td>Solyc01g150153</td><td>OG0038467</td><td> 0</td><td>0</td><td>       NA</td><td>       NA</td><td>       NA</td></tr>\n",
       "\t<tr><th scope=row>25346</th><td>Solyc02g088950</td><td>Solyc02g088980</td><td>OG0038488</td><td> 4</td><td>3</td><td>0.7492072</td><td>0.7698583</td><td>0.8537446</td></tr>\n",
       "\t<tr><th scope=row>25347</th><td>Solyc08g044300</td><td>Solyc08g150123</td><td>OG0038616</td><td> 0</td><td>0</td><td>       NA</td><td>       NA</td><td>       NA</td></tr>\n",
       "</tbody>\n",
       "</table>\n"
      ],
      "text/latex": [
       "A data.frame: 6 × 8\n",
       "\\begin{tabular}{r|llllllll}\n",
       "  & Gene1 & Gene2 & OGs & exp1 & exp2 & coexp\\_atlas & FC\\_atlas & spec\\_atlas\\\\\n",
       "  & <chr> & <chr> & <chr> & <int> & <int> & <dbl> & <dbl> & <dbl>\\\\\n",
       "\\hline\n",
       "\t25342 & Solyc12g049611 & Solyc12g049614 & OG0036202 & 19 & 0 &        NA &        NA &        NA\\\\\n",
       "\t25343 & Solyc12g049611 & Solyc12g049616 & OG0036202 & 19 & 9 & 0.8225402 & 0.6773671 & 0.5723863\\\\\n",
       "\t25344 & Solyc12g049614 & Solyc12g049616 & OG0036202 &  0 & 9 &        NA &        NA &        NA\\\\\n",
       "\t25345 & Solyc01g103310 & Solyc01g150153 & OG0038467 &  0 & 0 &        NA &        NA &        NA\\\\\n",
       "\t25346 & Solyc02g088950 & Solyc02g088980 & OG0038488 &  4 & 3 & 0.7492072 & 0.7698583 & 0.8537446\\\\\n",
       "\t25347 & Solyc08g044300 & Solyc08g150123 & OG0038616 &  0 & 0 &        NA &        NA &        NA\\\\\n",
       "\\end{tabular}\n"
      ],
      "text/markdown": [
       "\n",
       "A data.frame: 6 × 8\n",
       "\n",
       "| <!--/--> | Gene1 &lt;chr&gt; | Gene2 &lt;chr&gt; | OGs &lt;chr&gt; | exp1 &lt;int&gt; | exp2 &lt;int&gt; | coexp_atlas &lt;dbl&gt; | FC_atlas &lt;dbl&gt; | spec_atlas &lt;dbl&gt; |\n",
       "|---|---|---|---|---|---|---|---|---|\n",
       "| 25342 | Solyc12g049611 | Solyc12g049614 | OG0036202 | 19 | 0 |        NA |        NA |        NA |\n",
       "| 25343 | Solyc12g049611 | Solyc12g049616 | OG0036202 | 19 | 9 | 0.8225402 | 0.6773671 | 0.5723863 |\n",
       "| 25344 | Solyc12g049614 | Solyc12g049616 | OG0036202 |  0 | 9 |        NA |        NA |        NA |\n",
       "| 25345 | Solyc01g103310 | Solyc01g150153 | OG0038467 |  0 | 0 |        NA |        NA |        NA |\n",
       "| 25346 | Solyc02g088950 | Solyc02g088980 | OG0038488 |  4 | 3 | 0.7492072 | 0.7698583 | 0.8537446 |\n",
       "| 25347 | Solyc08g044300 | Solyc08g150123 | OG0038616 |  0 | 0 |        NA |        NA |        NA |\n",
       "\n"
      ],
      "text/plain": [
       "      Gene1          Gene2          OGs       exp1 exp2 coexp_atlas FC_atlas \n",
       "25342 Solyc12g049611 Solyc12g049614 OG0036202 19   0           NA          NA\n",
       "25343 Solyc12g049611 Solyc12g049616 OG0036202 19   9    0.8225402   0.6773671\n",
       "25344 Solyc12g049614 Solyc12g049616 OG0036202  0   9           NA          NA\n",
       "25345 Solyc01g103310 Solyc01g150153 OG0038467  0   0           NA          NA\n",
       "25346 Solyc02g088950 Solyc02g088980 OG0038488  4   3    0.7492072   0.7698583\n",
       "25347 Solyc08g044300 Solyc08g150123 OG0038616  0   0           NA          NA\n",
       "      spec_atlas\n",
       "25342        NA \n",
       "25343 0.5723863 \n",
       "25344        NA \n",
       "25345        NA \n",
       "25346 0.8537446 \n",
       "25347        NA "
      ]
     },
     "metadata": {},
     "output_type": "display_data"
    },
    {
     "data": {
      "text/html": [
       "<style>\n",
       ".list-inline {list-style: none; margin:0; padding: 0}\n",
       ".list-inline>li {display: inline-block}\n",
       ".list-inline>li:not(:last-child)::after {content: \"\\00b7\"; padding: 0 .5ex}\n",
       "</style>\n",
       "<ol class=list-inline><li>25347</li><li>8</li></ol>\n"
      ],
      "text/latex": [
       "\\begin{enumerate*}\n",
       "\\item 25347\n",
       "\\item 8\n",
       "\\end{enumerate*}\n"
      ],
      "text/markdown": [
       "1. 25347\n",
       "2. 8\n",
       "\n",
       "\n"
      ],
      "text/plain": [
       "[1] 25347     8"
      ]
     },
     "metadata": {},
     "output_type": "display_data"
    },
    {
     "data": {
      "text/html": [
       "4051"
      ],
      "text/latex": [
       "4051"
      ],
      "text/markdown": [
       "4051"
      ],
      "text/plain": [
       "[1] 4051"
      ]
     },
     "metadata": {},
     "output_type": "display_data"
    }
   ],
   "source": [
    "tail(genes)\n",
    "dim(genes)\n",
    "sum(!is.na(genes$coexp_atlas))"
   ]
  },
  {
   "cell_type": "code",
   "execution_count": 89,
   "id": "e298058f-3d89-4a44-af45-0776549e42f6",
   "metadata": {},
   "outputs": [
    {
     "data": {
      "text/html": [
       "<table class=\"dataframe\">\n",
       "<caption>A data.frame: 1 × 29</caption>\n",
       "<thead>\n",
       "\t<tr><th></th><th scope=col>TL5</th><th scope=col>evm_leaf_primordia</th><th scope=col>lvm_leaf_primordia</th><th scope=col>mvm_leaf_primordia</th><th scope=col>sym_leaf_primordia</th><th scope=col>tm_leaf_primordia</th><th scope=col>M82_apices</th><th scope=col>M82_pollen</th><th scope=col>Heintz_Root</th><th scope=col>Heinz_10dBreakerFruit</th><th scope=col>⋯</th><th scope=col>M82_FM</th><th scope=col>M82_LVM</th><th scope=col>M82_MVM</th><th scope=col>M82_SIM</th><th scope=col>M82_SYM</th><th scope=col>M82_TM</th><th scope=col>expr</th><th scope=col>num_tissues_exp</th><th scope=col>exp_type</th><th scope=col>tau</th></tr>\n",
       "\t<tr><th></th><th scope=col>&lt;dbl&gt;</th><th scope=col>&lt;dbl&gt;</th><th scope=col>&lt;dbl&gt;</th><th scope=col>&lt;dbl&gt;</th><th scope=col>&lt;dbl&gt;</th><th scope=col>&lt;dbl&gt;</th><th scope=col>&lt;dbl&gt;</th><th scope=col>&lt;dbl&gt;</th><th scope=col>&lt;dbl&gt;</th><th scope=col>&lt;dbl&gt;</th><th scope=col>⋯</th><th scope=col>&lt;int&gt;</th><th scope=col>&lt;int&gt;</th><th scope=col>&lt;int&gt;</th><th scope=col>&lt;int&gt;</th><th scope=col>&lt;int&gt;</th><th scope=col>&lt;int&gt;</th><th scope=col>&lt;chr&gt;</th><th scope=col>&lt;int&gt;</th><th scope=col>&lt;chr&gt;</th><th scope=col>&lt;dbl&gt;</th></tr>\n",
       "</thead>\n",
       "<tbody>\n",
       "\t<tr><th scope=row>Solyc08g150123</th><td>0</td><td>0</td><td>0</td><td>0</td><td>0</td><td>1</td><td>2</td><td>0.5</td><td>0</td><td>0</td><td>⋯</td><td>0</td><td>0</td><td>0</td><td>0</td><td>0</td><td>0</td><td>low_exp</td><td>0</td><td>specific</td><td>0.9583333</td></tr>\n",
       "</tbody>\n",
       "</table>\n"
      ],
      "text/latex": [
       "A data.frame: 1 × 29\n",
       "\\begin{tabular}{r|lllllllllllllllllllll}\n",
       "  & TL5 & evm\\_leaf\\_primordia & lvm\\_leaf\\_primordia & mvm\\_leaf\\_primordia & sym\\_leaf\\_primordia & tm\\_leaf\\_primordia & M82\\_apices & M82\\_pollen & Heintz\\_Root & Heinz\\_10dBreakerFruit & ⋯ & M82\\_FM & M82\\_LVM & M82\\_MVM & M82\\_SIM & M82\\_SYM & M82\\_TM & expr & num\\_tissues\\_exp & exp\\_type & tau\\\\\n",
       "  & <dbl> & <dbl> & <dbl> & <dbl> & <dbl> & <dbl> & <dbl> & <dbl> & <dbl> & <dbl> & ⋯ & <int> & <int> & <int> & <int> & <int> & <int> & <chr> & <int> & <chr> & <dbl>\\\\\n",
       "\\hline\n",
       "\tSolyc08g150123 & 0 & 0 & 0 & 0 & 0 & 1 & 2 & 0.5 & 0 & 0 & ⋯ & 0 & 0 & 0 & 0 & 0 & 0 & low\\_exp & 0 & specific & 0.9583333\\\\\n",
       "\\end{tabular}\n"
      ],
      "text/markdown": [
       "\n",
       "A data.frame: 1 × 29\n",
       "\n",
       "| <!--/--> | TL5 &lt;dbl&gt; | evm_leaf_primordia &lt;dbl&gt; | lvm_leaf_primordia &lt;dbl&gt; | mvm_leaf_primordia &lt;dbl&gt; | sym_leaf_primordia &lt;dbl&gt; | tm_leaf_primordia &lt;dbl&gt; | M82_apices &lt;dbl&gt; | M82_pollen &lt;dbl&gt; | Heintz_Root &lt;dbl&gt; | Heinz_10dBreakerFruit &lt;dbl&gt; | ⋯ ⋯ | M82_FM &lt;int&gt; | M82_LVM &lt;int&gt; | M82_MVM &lt;int&gt; | M82_SIM &lt;int&gt; | M82_SYM &lt;int&gt; | M82_TM &lt;int&gt; | expr &lt;chr&gt; | num_tissues_exp &lt;int&gt; | exp_type &lt;chr&gt; | tau &lt;dbl&gt; |\n",
       "|---|---|---|---|---|---|---|---|---|---|---|---|---|---|---|---|---|---|---|---|---|---|\n",
       "| Solyc08g150123 | 0 | 0 | 0 | 0 | 0 | 1 | 2 | 0.5 | 0 | 0 | ⋯ | 0 | 0 | 0 | 0 | 0 | 0 | low_exp | 0 | specific | 0.9583333 |\n",
       "\n"
      ],
      "text/plain": [
       "               TL5 evm_leaf_primordia lvm_leaf_primordia mvm_leaf_primordia\n",
       "Solyc08g150123 0   0                  0                  0                 \n",
       "               sym_leaf_primordia tm_leaf_primordia M82_apices M82_pollen\n",
       "Solyc08g150123 0                  1                 2          0.5       \n",
       "               Heintz_Root Heinz_10dBreakerFruit ⋯ M82_FM M82_LVM M82_MVM\n",
       "Solyc08g150123 0           0                     ⋯ 0      0       0      \n",
       "               M82_SIM M82_SYM M82_TM expr    num_tissues_exp exp_type\n",
       "Solyc08g150123 0       0       0      low_exp 0               specific\n",
       "               tau      \n",
       "Solyc08g150123 0.9583333"
      ]
     },
     "metadata": {},
     "output_type": "display_data"
    }
   ],
   "source": [
    "tom3p['Solyc08g150123',]"
   ]
  },
  {
   "cell_type": "code",
   "execution_count": 16,
   "id": "47d73d38-6497-43f8-bd3e-746bc86f2f1f",
   "metadata": {},
   "outputs": [],
   "source": [
    "# save file\n",
    "write.table(genes[,-c(4:5)], file = 'tomato_paralogs_atlas_25_tissue_Sri_scores.csv', sep = ',', row.names = F, col.names = T)"
   ]
  },
  {
   "cell_type": "code",
   "execution_count": null,
   "id": "22318738-782c-4c92-9345-5ae447d20add",
   "metadata": {},
   "outputs": [],
   "source": []
  }
 ],
 "metadata": {
  "kernelspec": {
   "display_name": "R",
   "language": "R",
   "name": "ir"
  },
  "language_info": {
   "codemirror_mode": "r",
   "file_extension": ".r",
   "mimetype": "text/x-r-source",
   "name": "R",
   "pygments_lexer": "r",
   "version": "4.2.2"
  }
 },
 "nbformat": 4,
 "nbformat_minor": 5
}
